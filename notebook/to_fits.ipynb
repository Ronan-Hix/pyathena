{
 "cells": [
  {
   "cell_type": "code",
   "execution_count": 1,
   "metadata": {
    "collapsed": true
   },
   "outputs": [],
   "source": [
    "%matplotlib inline\n",
    "import sys\n",
    "sys.path.pop(1)\n",
    "sys.path.insert(0,'../')\n",
    "import pyathena as pa\n",
    "import os"
   ]
  },
  {
   "cell_type": "code",
   "execution_count": 2,
   "metadata": {},
   "outputs": [],
   "source": [
    "import glob\n",
    "base='/tigress/changgoo/'\n",
    "id='MHD_2pc_S'\n",
    "fnames=glob.glob('%s%s/id0/%s.????.vtk' % (base,id,id))\n",
    "fnames.sort()\n",
    "rstfnames=glob.glob('%s%s/id0/%s.????.rst' % (base,id,id))+glob.glob('%s%s/rst/%s.????.rst' % (base,id,id))\n"
   ]
  },
  {
   "cell_type": "code",
   "execution_count": 3,
   "metadata": {},
   "outputs": [
    {
     "data": {
      "text/plain": [
       "['/tigress/changgoo/MHD_2pc_S/id0/MHD_2pc_S.0363.vtk',\n",
       " '/tigress/changgoo/MHD_2pc_S/id0/MHD_2pc_S.0378.vtk',\n",
       " '/tigress/changgoo/MHD_2pc_S/id0/MHD_2pc_S.0393.vtk',\n",
       " '/tigress/changgoo/MHD_2pc_S/id0/MHD_2pc_S.0408.vtk']"
      ]
     },
     "execution_count": 3,
     "metadata": {},
     "output_type": "execute_result"
    }
   ],
   "source": [
    "fnames[12:75:15]"
   ]
  },
  {
   "cell_type": "code",
   "execution_count": null,
   "metadata": {},
   "outputs": [
    {
     "name": "stdout",
     "output_type": "stream",
     "text": [
      "/tigress/changgoo/MHD_2pc_S/id0/MHD_2pc_S.0378.vtk\n"
     ]
    }
   ],
   "source": [
    "for f in fnames[12:75:15]:    \n",
    "    dir, id, step, ext, mpi = pa.parse_filename(f)\n",
    "    fitsname='%s/fits/%s.%s.%s.fits' % (dir,id,step,'dens')\n",
    "    par,blocks,fields=pa.parse_par(rstfnames[0])\n",
    "    if not os.path.isfile(fitsname):\n",
    "        print f\n",
    "        ds=pa.AthenaDataSet(f)\n",
    "        ds.domain['qshear']=eval(par['problem']['qshear'][0])\n",
    "        ds.domain['Omega']=eval(par['problem']['Omega'][0])\n",
    "        pa.save_to_fits(ds)"
   ]
  },
  {
   "cell_type": "code",
   "execution_count": 11,
   "metadata": {},
   "outputs": [
    {
     "data": {
      "text/plain": [
       "13.653333333333334"
      ]
     },
     "execution_count": 11,
     "metadata": {},
     "output_type": "execute_result"
    }
   ],
   "source": [
    "3.*(512/4)**2/3600."
   ]
  },
  {
   "cell_type": "code",
   "execution_count": null,
   "metadata": {
    "collapsed": true
   },
   "outputs": [],
   "source": []
  }
 ],
 "metadata": {
  "kernelspec": {
   "display_name": "Python 2",
   "language": "python",
   "name": "python2"
  }
 },
 "nbformat": 4,
 "nbformat_minor": 1
}
